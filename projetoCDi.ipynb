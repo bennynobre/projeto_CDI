{
  "nbformat": 4,
  "nbformat_minor": 2,
  "metadata": {
    "colab": {
      "name": "projetoCDi.ipynb",
      "provenance": [],
      "collapsed_sections": []
    },
    "kernelspec": {
      "name": "python3",
      "display_name": "Python 3.9.7 64-bit ('ai': conda)"
    },
    "language_info": {
      "name": "python",
      "version": "3.9.7",
      "mimetype": "text/x-python",
      "codemirror_mode": {
        "name": "ipython",
        "version": 3
      },
      "pygments_lexer": "ipython3",
      "nbconvert_exporter": "python",
      "file_extension": ".py"
    },
    "interpreter": {
      "hash": "28fed176da9af2ea6f007930910871573777e27f84472596c10e5707560e7b41"
    }
  },
  "cells": [
    {
      "cell_type": "code",
      "execution_count": 1,
      "source": [
        "import yfinance as yf\r\n",
        "import pandas as pd\r\n",
        "import numpy as np\r\n",
        "import quandl"
      ],
      "outputs": [],
      "metadata": {
        "id": "S05bxQyz6_4F"
      }
    },
    {
      "cell_type": "code",
      "execution_count": 6,
      "source": [
        "ativos = ['ITSA4.SA','WEGE3.SA']"
      ],
      "outputs": [],
      "metadata": {
        "id": "9hwpCtZ27ZxD"
      }
    },
    {
      "cell_type": "code",
      "execution_count": 7,
      "source": [
        "inicio = '2020-01-01'\r\n",
        "fim = '2021-10-06'"
      ],
      "outputs": [],
      "metadata": {
        "id": "zsnE7bK4QF_m"
      }
    },
    {
      "cell_type": "code",
      "execution_count": 8,
      "source": [
        "preco = pd.DataFrame()\r\n",
        "\r\n",
        "for i in ativos :\r\n",
        "  preco[i] = yf.download(i,start = inicio, end = fim)['Adj Close']"
      ],
      "outputs": [
        {
          "output_type": "stream",
          "name": "stdout",
          "text": [
            "[*********************100%***********************]  1 of 1 completed\n",
            "[*********************100%***********************]  1 of 1 completed\n"
          ]
        }
      ],
      "metadata": {
        "id": "DUKWuZI0QONS",
        "colab": {
          "base_uri": "https://localhost:8080/"
        },
        "outputId": "5c2e127b-5c6b-4a2a-a9f8-be1ca13183ca"
      }
    },
    {
      "cell_type": "code",
      "execution_count": 9,
      "source": [
        "preco"
      ],
      "outputs": [
        {
          "output_type": "execute_result",
          "data": {
            "text/html": [
              "<div>\n",
              "<style scoped>\n",
              "    .dataframe tbody tr th:only-of-type {\n",
              "        vertical-align: middle;\n",
              "    }\n",
              "\n",
              "    .dataframe tbody tr th {\n",
              "        vertical-align: top;\n",
              "    }\n",
              "\n",
              "    .dataframe thead th {\n",
              "        text-align: right;\n",
              "    }\n",
              "</style>\n",
              "<table border=\"1\" class=\"dataframe\">\n",
              "  <thead>\n",
              "    <tr style=\"text-align: right;\">\n",
              "      <th></th>\n",
              "      <th>ITSA4.SA</th>\n",
              "      <th>WEGE3.SA</th>\n",
              "    </tr>\n",
              "    <tr>\n",
              "      <th>Date</th>\n",
              "      <th></th>\n",
              "      <th></th>\n",
              "    </tr>\n",
              "  </thead>\n",
              "  <tbody>\n",
              "    <tr>\n",
              "      <th>2020-01-02</th>\n",
              "      <td>13.515138</td>\n",
              "      <td>17.296629</td>\n",
              "    </tr>\n",
              "    <tr>\n",
              "      <th>2020-01-03</th>\n",
              "      <td>13.317356</td>\n",
              "      <td>17.075760</td>\n",
              "    </tr>\n",
              "    <tr>\n",
              "      <th>2020-01-06</th>\n",
              "      <td>13.289100</td>\n",
              "      <td>17.119936</td>\n",
              "    </tr>\n",
              "    <tr>\n",
              "      <th>2020-01-07</th>\n",
              "      <td>13.110156</td>\n",
              "      <td>17.252459</td>\n",
              "    </tr>\n",
              "    <tr>\n",
              "      <th>2020-01-08</th>\n",
              "      <td>12.912372</td>\n",
              "      <td>16.599659</td>\n",
              "    </tr>\n",
              "    <tr>\n",
              "      <th>...</th>\n",
              "      <td>...</td>\n",
              "      <td>...</td>\n",
              "    </tr>\n",
              "    <tr>\n",
              "      <th>2021-09-29</th>\n",
              "      <td>11.240000</td>\n",
              "      <td>39.869999</td>\n",
              "    </tr>\n",
              "    <tr>\n",
              "      <th>2021-09-30</th>\n",
              "      <td>11.140000</td>\n",
              "      <td>39.630001</td>\n",
              "    </tr>\n",
              "    <tr>\n",
              "      <th>2021-10-01</th>\n",
              "      <td>11.420000</td>\n",
              "      <td>40.169998</td>\n",
              "    </tr>\n",
              "    <tr>\n",
              "      <th>2021-10-04</th>\n",
              "      <td>11.160000</td>\n",
              "      <td>38.779999</td>\n",
              "    </tr>\n",
              "    <tr>\n",
              "      <th>2021-10-05</th>\n",
              "      <td>11.330000</td>\n",
              "      <td>37.529999</td>\n",
              "    </tr>\n",
              "  </tbody>\n",
              "</table>\n",
              "<p>435 rows × 2 columns</p>\n",
              "</div>"
            ],
            "text/plain": [
              "             ITSA4.SA   WEGE3.SA\n",
              "Date                            \n",
              "2020-01-02  13.515138  17.296629\n",
              "2020-01-03  13.317356  17.075760\n",
              "2020-01-06  13.289100  17.119936\n",
              "2020-01-07  13.110156  17.252459\n",
              "2020-01-08  12.912372  16.599659\n",
              "...               ...        ...\n",
              "2021-09-29  11.240000  39.869999\n",
              "2021-09-30  11.140000  39.630001\n",
              "2021-10-01  11.420000  40.169998\n",
              "2021-10-04  11.160000  38.779999\n",
              "2021-10-05  11.330000  37.529999\n",
              "\n",
              "[435 rows x 2 columns]"
            ]
          },
          "metadata": {},
          "execution_count": 9
        }
      ],
      "metadata": {
        "id": "2-j8ztDrQ6bO",
        "colab": {
          "base_uri": "https://localhost:8080/",
          "height": 450
        },
        "outputId": "eb7deea7-720d-42ef-f94b-06d1459243cc"
      }
    },
    {
      "cell_type": "code",
      "execution_count": null,
      "source": [],
      "outputs": [],
      "metadata": {}
    }
  ]
}